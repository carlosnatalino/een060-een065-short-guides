{
 "cells": [
  {
   "cell_type": "markdown",
   "metadata": {},
   "source": [
    "# EEN065 - Applied object-oriented programming\n",
    "\n",
    "## Short guide 1: Receiving data from the user\n",
    "\n",
    "Documentation: https://docs.python.org/3.7/library/functions.html#input"
   ]
  },
  {
   "cell_type": "code",
   "execution_count": 9,
   "metadata": {},
   "outputs": [
    {
     "name": "stdin",
     "output_type": "stream",
     "text": [
      "Please provide some text: text\n"
     ]
    },
    {
     "name": "stdout",
     "output_type": "stream",
     "text": [
      "text received: text <class 'str'>\n"
     ]
    }
   ],
   "source": [
    "# topic 1: obtaining text from the user\n",
    "user_input = input('Please provide some text:')\n",
    "print('text received:', user_input, type(user_input))"
   ]
  },
  {
   "cell_type": "code",
   "execution_count": 11,
   "metadata": {},
   "outputs": [
    {
     "name": "stdin",
     "output_type": "stream",
     "text": [
      "Type a number: 10\n"
     ]
    }
   ],
   "source": [
    "# topic 2: converting input to numbers\n",
    "user_input = input('Type a number:')\n",
    "user_input_int = int(user_input)\n",
    "user_input_float = float(user_input)"
   ]
  },
  {
   "cell_type": "code",
   "execution_count": 13,
   "metadata": {},
   "outputs": [
    {
     "name": "stdin",
     "output_type": "stream",
     "text": [
      "Type a number [q to quit]: 4\n"
     ]
    },
    {
     "name": "stdout",
     "output_type": "stream",
     "text": [
      "4.0\n"
     ]
    },
    {
     "name": "stdin",
     "output_type": "stream",
     "text": [
      "Type a number [q to quit]: 5.6\n"
     ]
    },
    {
     "name": "stdout",
     "output_type": "stream",
     "text": [
      "5.6\n"
     ]
    },
    {
     "name": "stdin",
     "output_type": "stream",
     "text": [
      "Type a number [q to quit]: q\n"
     ]
    },
    {
     "name": "stdout",
     "output_type": "stream",
     "text": [
      "user exitted\n"
     ]
    }
   ],
   "source": [
    "# topic 3: obtaining numbers in loops\n",
    "while True:\n",
    "    user_input = input('Type a number [q to quit]:')\n",
    "    if user_input == 'q':\n",
    "        break\n",
    "    user_input_number = float(user_input)\n",
    "    print(user_input_number)\n",
    "print('user exitted')"
   ]
  }
 ],
 "metadata": {
  "kernelspec": {
   "display_name": "Python 3",
   "language": "python",
   "name": "python3"
  },
  "language_info": {
   "codemirror_mode": {
    "name": "ipython",
    "version": 3
   },
   "file_extension": ".py",
   "mimetype": "text/x-python",
   "name": "python",
   "nbconvert_exporter": "python",
   "pygments_lexer": "ipython3",
   "version": "3.7.6"
  }
 },
 "nbformat": 4,
 "nbformat_minor": 4
}
